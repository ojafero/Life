{
 "cells": [
  {
   "cell_type": "code",
   "execution_count": 1,
   "metadata": {},
   "outputs": [],
   "source": [
    "import numpy as np\n",
    "import cv2\n",
    "import matplotlib.pyplot as plt\n",
    "import csv\n",
    "import os\n",
    "import numpy as np\n",
    "import pandas as pd\n",
    "\n",
    "import seaborn as sns\n",
    "\n",
    "from time import time\n",
    "import random\n",
    "\n",
    "import tensorflow as tf\n",
    "from tensorflow import keras\n",
    "from tensorflow.keras import layers\n",
    "from keras.models import Sequential\n",
    "from keras.layers import Dense, Dropout, Flatten\n",
    "from keras.layers import Conv2D, MaxPooling2D\n",
    "from tensorflow.keras.models import Model\n",
    "from keras.callbacks import EarlyStopping\n",
    "\n",
    "from tensorflow.python.keras.preprocessing.image import array_to_img\n",
    "from keras.preprocessing import image\n",
    "from keras.utils.vis_utils import plot_model\n",
    "from tensorflow.keras.layers import experimental"
   ]
  },
  {
   "cell_type": "code",
   "execution_count": 2,
   "metadata": {},
   "outputs": [],
   "source": [
    "img_height = 224\n",
    "img_width = 224"
   ]
  },
  {
   "cell_type": "code",
   "execution_count": 3,
   "metadata": {},
   "outputs": [],
   "source": [
    "img_dir = \"Dataset/test/Apple___healthy/00a6039c-e425-4f7d-81b1-d6b0e668517e___RS_HL 7669_90degFlipTB.JPG\""
   ]
  },
  {
   "cell_type": "code",
   "execution_count": 4,
   "metadata": {},
   "outputs": [],
   "source": [
    "img = tf.keras.preprocessing.image.load_img(\n",
    "    img_dir, grayscale=False, color_mode=\"rgb\", target_size=(img_width,img_height), interpolation=\"nearest\"\n",
    ")\n",
    "x = image.img_to_array(img)\n",
    "x = np.expand_dims(x, axis =0)\n",
    "images = np.vstack([x])"
   ]
  },
  {
   "cell_type": "code",
   "execution_count": 5,
   "metadata": {},
   "outputs": [],
   "source": [
    "dict = {\n",
    "0:'Apple___Apple_scab',\n",
    "1:'Apple___Black_rot',\n",
    "2:'Apple___Cedar_apple_rust',\n",
    "3:'Apple___healthy',\n",
    "4:'Cherry_(including_sour)___Powdery_mildew',\n",
    "5:'Cherry_(including_sour)___healthy',\n",
    "6:'Corn_(maize)___Cercospora_leaf_spot Gray_leaf_spot',\n",
    "7:'Corn_(maize)___Common_rust_',\n",
    "8:'Corn_(maize)___Northern_Leaf_Blight',\n",
    "9:'Corn_(maize)___healthy',\n",
    "10:'Grape___Black_rot',\n",
    "11:'Grape___Esca_(Black_Measles)',\n",
    "12:'Grape___Leaf_blight_(Isariopsis_Leaf_Spot)',\n",
    "13:'Grape___healthy',\n",
    "14:'Peach___Bacterial_spot',\n",
    "15:'Peach___healthy',\n",
    "16:'Pepper,_bell___Bacterial_spot',\n",
    "17:'Pepper,_bell___healthy',\n",
    "18:'Potato___Early_blight',\n",
    "19:'Potato___Late_blight',\n",
    "20:'Potato___healthy',\n",
    "21:'Strawberry___Leaf_scorch',\n",
    "22:'Strawberry___healthy',\n",
    "23:'Tomato___Bacterial_spot',\n",
    "24:'Tomato___Early_blight',\n",
    "25:'Tomato___Late_blight',\n",
    "26:'Tomato___Leaf_Mold',\n",
    "27:'Tomato___Septoria_leaf_spot',\n",
    "28:'Tomato___Spider_mites Two-spotted_spider_mite',\n",
    "29:'Tomato___Target_Spot',\n",
    "30:'Tomato___Tomato_Yellow_Leaf_Curl_Virus',\n",
    "31:'Tomato___Tomato_mosaic_virus',\n",
    "32:'Tomato___healthy'\n",
    "}"
   ]
  },
  {
   "cell_type": "code",
   "execution_count": 6,
   "metadata": {},
   "outputs": [
    {
     "data": {
      "text/plain": [
       "<keras.engine.sequential.Sequential at 0x1d35b106d08>"
      ]
     },
     "execution_count": 6,
     "metadata": {},
     "output_type": "execute_result"
    }
   ],
   "source": [
    "model2 = tf.keras.models.load_model('CNN_model_2.h5')\n",
    "model2"
   ]
  },
  {
   "cell_type": "code",
   "execution_count": 7,
   "metadata": {},
   "outputs": [],
   "source": [
    "preds = model2.predict(images, batch_size = 100)\n",
    "predictedClass = np.argmax(preds, axis=1)\n",
    "predictedClass = np.vectorize(dict.get)(predictedClass)"
   ]
  },
  {
   "cell_type": "code",
   "execution_count": 8,
   "metadata": {},
   "outputs": [
    {
     "name": "stdout",
     "output_type": "stream",
     "text": [
      "Plant: Apple, Status: healthy, Probability: 0.9999991655349731\n"
     ]
    }
   ],
   "source": [
    "Plant = predictedClass[0].split('___')[0]\n",
    "Status = predictedClass[0].split('___')[1]\n",
    "Probability = np.max(preds)\n",
    "\n",
    "print(f\"Plant: {Plant}, Status: {Status}, Probability: {Probability}\" )"
   ]
  },
  {
   "cell_type": "code",
   "execution_count": null,
   "metadata": {},
   "outputs": [],
   "source": []
  }
 ],
 "metadata": {
  "kernelspec": {
   "display_name": "Python (Capstone-NLP)",
   "language": "python",
   "name": "capstone-nlp"
  },
  "language_info": {
   "codemirror_mode": {
    "name": "ipython",
    "version": 3
   },
   "file_extension": ".py",
   "mimetype": "text/x-python",
   "name": "python",
   "nbconvert_exporter": "python",
   "pygments_lexer": "ipython3",
   "version": "3.7.6"
  },
  "toc": {
   "base_numbering": 1,
   "nav_menu": {},
   "number_sections": true,
   "sideBar": true,
   "skip_h1_title": false,
   "title_cell": "Table of Contents",
   "title_sidebar": "Contents",
   "toc_cell": false,
   "toc_position": {},
   "toc_section_display": true,
   "toc_window_display": false
  }
 },
 "nbformat": 4,
 "nbformat_minor": 4
}
